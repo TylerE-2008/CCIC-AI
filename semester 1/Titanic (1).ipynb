{
 "cells": [
  {
   "cell_type": "markdown",
   "id": "4aa193d7-eac5-4246-b595-318a2db06502",
   "metadata": {},
   "source": [
    "# what percent of people 18 up had kids"
   ]
  },
  {
   "cell_type": "code",
   "execution_count": 2,
   "id": "abadcc87-7d48-4387-8719-2b3aa2f9311d",
   "metadata": {},
   "outputs": [
    {
     "name": "stdout",
     "output_type": "stream",
     "text": [
      "Pandas version: 2.1.4\n"
     ]
    }
   ],
   "source": [
    "import pandas as pd\n",
    "\n",
    "print(f\"Pandas version: {pd.__version__}\")"
   ]
  },
  {
   "cell_type": "code",
   "execution_count": 12,
   "id": "85fd8af3-73ef-4af2-be2d-47effb6d212e",
   "metadata": {},
   "outputs": [],
   "source": [
    "pd.read_csv('titanic.csv', chunksize = chunk_size)"
   ]
  }
 ],
 "metadata": {
  "kernelspec": {
   "display_name": "anaconda-2024.02-py310",
   "language": "python",
   "name": "conda-env-anaconda-2024.02-py310-py"
  },
  "language_info": {
   "codemirror_mode": {
    "name": "ipython",
    "version": 3
   },
   "file_extension": ".py",
   "mimetype": "text/x-python",
   "name": "python",
   "nbconvert_exporter": "python",
   "pygments_lexer": "ipython3",
   "version": "3.10.14"
  }
 },
 "nbformat": 4,
 "nbformat_minor": 5
}
