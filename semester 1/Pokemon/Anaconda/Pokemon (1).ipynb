{
 "cells": [
  {
   "cell_type": "markdown",
   "id": "03f21fe2-bd72-46b7-8329-290413c4f4e1",
   "metadata": {},
   "source": [
    "# How does the speed of Pikachu compare to other Electric types in all gens\n",
    "# I plan on doing an prospective observational study"
   ]
  },
  {
   "cell_type": "markdown",
   "id": "8a10a47d-0810-4bd7-8dfa-cd2aecf0af3c",
   "metadata": {},
   "source": [
    "# Onur Gitmez made this dataset and decided they only wanted the stats of each pokemon.\n",
    "# im pretty sure stats are a random range so its probably an average of each pokemons stats"
   ]
  },
  {
   "cell_type": "code",
   "execution_count": 1,
   "id": "c5f13d95-b0fb-4ae8-b69d-d671ad0ea885",
   "metadata": {},
   "outputs": [],
   "source": [
    "import pandas as pd\n",
    "import matplotlib.pyplot as plt"
   ]
  },
  {
   "cell_type": "code",
   "execution_count": 2,
   "id": "25d051ef-260a-4338-95ae-b6cdfb16c2a7",
   "metadata": {},
   "outputs": [],
   "source": [
    "df = pd.read_csv('Stats.csv')"
   ]
  },
  {
   "cell_type": "code",
   "execution_count": 3,
   "id": "bf9429da-aff9-46a4-be2b-95033a8cd50f",
   "metadata": {},
   "outputs": [
    {
     "data": {
      "text/plain": [
       "<bound method DataFrame.info of         ID                    Name  Total   HP  Attack  Defense  SpAtk  SpDef  \\\n",
       "0        1               Bulbasaur    318   45      49       49     65     65   \n",
       "1        2                 Ivysaur    405   60      62       63     80     80   \n",
       "2        3                Venusaur    525   80      82       83    100    100   \n",
       "3        3  Venusaur Mega Venusaur    625   80     100      123    122    120   \n",
       "4        4              Charmander    309   39      52       43     60     50   \n",
       "...    ...                     ...    ...  ...     ...      ...    ...    ...   \n",
       "1189  1006            Iron Valiant    590   74     130       90    120     60   \n",
       "1190  1007                Koraidon    670  100     135      115     85    100   \n",
       "1191  1008                Miraidon    670  100      85      100    135    115   \n",
       "1192  1009            Walking Wake    590   99      83       91    125     83   \n",
       "1193  1010             Iron Leaves    590   90     130       88     70    108   \n",
       "\n",
       "      Speed     Type1     Type2  Height  Weight  \n",
       "0        45     Grass    Poison     0.7     6.9  \n",
       "1        60     Grass    Poison     1.0    13.0  \n",
       "2        80     Grass    Poison     2.0   100.0  \n",
       "3        80     Grass    Poison     2.4   155.5  \n",
       "4        65      Fire       NaN     0.6     8.5  \n",
       "...     ...       ...       ...     ...     ...  \n",
       "1189    116     Fairy  Fighting     1.4    35.0  \n",
       "1190    135  Fighting    Dragon     2.5   303.0  \n",
       "1191    135  Electric    Dragon     3.5   240.0  \n",
       "1192    109     Water    Dragon     3.5   280.0  \n",
       "1193    104     Grass   Psychic     1.5   125.0  \n",
       "\n",
       "[1194 rows x 13 columns]>"
      ]
     },
     "execution_count": 3,
     "metadata": {},
     "output_type": "execute_result"
    }
   ],
   "source": [
    "df.info"
   ]
  },
  {
   "cell_type": "code",
   "execution_count": 4,
   "id": "6fb451a2-f743-4db6-b52a-84ac4630270c",
   "metadata": {},
   "outputs": [
    {
     "data": {
      "text/html": [
       "<div>\n",
       "<style scoped>\n",
       "    .dataframe tbody tr th:only-of-type {\n",
       "        vertical-align: middle;\n",
       "    }\n",
       "\n",
       "    .dataframe tbody tr th {\n",
       "        vertical-align: top;\n",
       "    }\n",
       "\n",
       "    .dataframe thead th {\n",
       "        text-align: right;\n",
       "    }\n",
       "</style>\n",
       "<table border=\"1\" class=\"dataframe\">\n",
       "  <thead>\n",
       "    <tr style=\"text-align: right;\">\n",
       "      <th></th>\n",
       "      <th>ID</th>\n",
       "      <th>Name</th>\n",
       "      <th>Total</th>\n",
       "      <th>HP</th>\n",
       "      <th>Attack</th>\n",
       "      <th>Defense</th>\n",
       "      <th>SpAtk</th>\n",
       "      <th>SpDef</th>\n",
       "      <th>Speed</th>\n",
       "      <th>Type1</th>\n",
       "      <th>Type2</th>\n",
       "      <th>Height</th>\n",
       "      <th>Weight</th>\n",
       "    </tr>\n",
       "  </thead>\n",
       "  <tbody>\n",
       "    <tr>\n",
       "      <th>32</th>\n",
       "      <td>25</td>\n",
       "      <td>Pikachu</td>\n",
       "      <td>320</td>\n",
       "      <td>35</td>\n",
       "      <td>55</td>\n",
       "      <td>40</td>\n",
       "      <td>50</td>\n",
       "      <td>50</td>\n",
       "      <td>90</td>\n",
       "      <td>Electric</td>\n",
       "      <td>NaN</td>\n",
       "      <td>0.4</td>\n",
       "      <td>6.0</td>\n",
       "    </tr>\n",
       "    <tr>\n",
       "      <th>33</th>\n",
       "      <td>25</td>\n",
       "      <td>Pikachu Partner Pikachu</td>\n",
       "      <td>430</td>\n",
       "      <td>45</td>\n",
       "      <td>80</td>\n",
       "      <td>50</td>\n",
       "      <td>75</td>\n",
       "      <td>60</td>\n",
       "      <td>120</td>\n",
       "      <td>Electric</td>\n",
       "      <td>NaN</td>\n",
       "      <td>0.4</td>\n",
       "      <td>6.0</td>\n",
       "    </tr>\n",
       "    <tr>\n",
       "      <th>34</th>\n",
       "      <td>26</td>\n",
       "      <td>Raichu</td>\n",
       "      <td>485</td>\n",
       "      <td>60</td>\n",
       "      <td>90</td>\n",
       "      <td>55</td>\n",
       "      <td>90</td>\n",
       "      <td>80</td>\n",
       "      <td>110</td>\n",
       "      <td>Electric</td>\n",
       "      <td>NaN</td>\n",
       "      <td>0.8</td>\n",
       "      <td>30.0</td>\n",
       "    </tr>\n",
       "    <tr>\n",
       "      <th>35</th>\n",
       "      <td>26</td>\n",
       "      <td>Raichu Alolan Raichu</td>\n",
       "      <td>485</td>\n",
       "      <td>60</td>\n",
       "      <td>85</td>\n",
       "      <td>50</td>\n",
       "      <td>95</td>\n",
       "      <td>85</td>\n",
       "      <td>110</td>\n",
       "      <td>Electric</td>\n",
       "      <td>Psychic</td>\n",
       "      <td>0.7</td>\n",
       "      <td>21.0</td>\n",
       "    </tr>\n",
       "    <tr>\n",
       "      <th>110</th>\n",
       "      <td>81</td>\n",
       "      <td>Magnemite</td>\n",
       "      <td>325</td>\n",
       "      <td>25</td>\n",
       "      <td>35</td>\n",
       "      <td>70</td>\n",
       "      <td>95</td>\n",
       "      <td>55</td>\n",
       "      <td>45</td>\n",
       "      <td>Electric</td>\n",
       "      <td>Steel</td>\n",
       "      <td>0.3</td>\n",
       "      <td>6.0</td>\n",
       "    </tr>\n",
       "    <tr>\n",
       "      <th>...</th>\n",
       "      <td>...</td>\n",
       "      <td>...</td>\n",
       "      <td>...</td>\n",
       "      <td>...</td>\n",
       "      <td>...</td>\n",
       "      <td>...</td>\n",
       "      <td>...</td>\n",
       "      <td>...</td>\n",
       "      <td>...</td>\n",
       "      <td>...</td>\n",
       "      <td>...</td>\n",
       "      <td>...</td>\n",
       "      <td>...</td>\n",
       "    </tr>\n",
       "    <tr>\n",
       "      <th>1117</th>\n",
       "      <td>939</td>\n",
       "      <td>Bellibolt</td>\n",
       "      <td>495</td>\n",
       "      <td>109</td>\n",
       "      <td>64</td>\n",
       "      <td>91</td>\n",
       "      <td>103</td>\n",
       "      <td>83</td>\n",
       "      <td>45</td>\n",
       "      <td>Electric</td>\n",
       "      <td>NaN</td>\n",
       "      <td>1.2</td>\n",
       "      <td>113.0</td>\n",
       "    </tr>\n",
       "    <tr>\n",
       "      <th>1118</th>\n",
       "      <td>940</td>\n",
       "      <td>Wattrel</td>\n",
       "      <td>280</td>\n",
       "      <td>40</td>\n",
       "      <td>40</td>\n",
       "      <td>35</td>\n",
       "      <td>55</td>\n",
       "      <td>40</td>\n",
       "      <td>70</td>\n",
       "      <td>Electric</td>\n",
       "      <td>Flying</td>\n",
       "      <td>0.4</td>\n",
       "      <td>3.6</td>\n",
       "    </tr>\n",
       "    <tr>\n",
       "      <th>1119</th>\n",
       "      <td>941</td>\n",
       "      <td>Kilowattrel</td>\n",
       "      <td>490</td>\n",
       "      <td>70</td>\n",
       "      <td>70</td>\n",
       "      <td>60</td>\n",
       "      <td>105</td>\n",
       "      <td>60</td>\n",
       "      <td>125</td>\n",
       "      <td>Electric</td>\n",
       "      <td>Flying</td>\n",
       "      <td>1.4</td>\n",
       "      <td>38.6</td>\n",
       "    </tr>\n",
       "    <tr>\n",
       "      <th>1171</th>\n",
       "      <td>989</td>\n",
       "      <td>Sandy Shocks</td>\n",
       "      <td>570</td>\n",
       "      <td>85</td>\n",
       "      <td>81</td>\n",
       "      <td>97</td>\n",
       "      <td>121</td>\n",
       "      <td>85</td>\n",
       "      <td>101</td>\n",
       "      <td>Electric</td>\n",
       "      <td>Ground</td>\n",
       "      <td>2.3</td>\n",
       "      <td>60.0</td>\n",
       "    </tr>\n",
       "    <tr>\n",
       "      <th>1191</th>\n",
       "      <td>1008</td>\n",
       "      <td>Miraidon</td>\n",
       "      <td>670</td>\n",
       "      <td>100</td>\n",
       "      <td>85</td>\n",
       "      <td>100</td>\n",
       "      <td>135</td>\n",
       "      <td>115</td>\n",
       "      <td>135</td>\n",
       "      <td>Electric</td>\n",
       "      <td>Dragon</td>\n",
       "      <td>3.5</td>\n",
       "      <td>240.0</td>\n",
       "    </tr>\n",
       "  </tbody>\n",
       "</table>\n",
       "<p>73 rows × 13 columns</p>\n",
       "</div>"
      ],
      "text/plain": [
       "        ID                     Name  Total   HP  Attack  Defense  SpAtk  \\\n",
       "32      25                  Pikachu    320   35      55       40     50   \n",
       "33      25  Pikachu Partner Pikachu    430   45      80       50     75   \n",
       "34      26                   Raichu    485   60      90       55     90   \n",
       "35      26     Raichu Alolan Raichu    485   60      85       50     95   \n",
       "110     81                Magnemite    325   25      35       70     95   \n",
       "...    ...                      ...    ...  ...     ...      ...    ...   \n",
       "1117   939                Bellibolt    495  109      64       91    103   \n",
       "1118   940                  Wattrel    280   40      40       35     55   \n",
       "1119   941              Kilowattrel    490   70      70       60    105   \n",
       "1171   989             Sandy Shocks    570   85      81       97    121   \n",
       "1191  1008                 Miraidon    670  100      85      100    135   \n",
       "\n",
       "      SpDef  Speed     Type1    Type2  Height  Weight  \n",
       "32       50     90  Electric      NaN     0.4     6.0  \n",
       "33       60    120  Electric      NaN     0.4     6.0  \n",
       "34       80    110  Electric      NaN     0.8    30.0  \n",
       "35       85    110  Electric  Psychic     0.7    21.0  \n",
       "110      55     45  Electric    Steel     0.3     6.0  \n",
       "...     ...    ...       ...      ...     ...     ...  \n",
       "1117     83     45  Electric      NaN     1.2   113.0  \n",
       "1118     40     70  Electric   Flying     0.4     3.6  \n",
       "1119     60    125  Electric   Flying     1.4    38.6  \n",
       "1171     85    101  Electric   Ground     2.3    60.0  \n",
       "1191    115    135  Electric   Dragon     3.5   240.0  \n",
       "\n",
       "[73 rows x 13 columns]"
      ]
     },
     "execution_count": 4,
     "metadata": {},
     "output_type": "execute_result"
    }
   ],
   "source": [
    "df[df[\"Type1\"] == \"Electric\"]"
   ]
  },
  {
   "cell_type": "code",
   "execution_count": 7,
   "id": "622ca8ba-480c-4e86-9640-9b3100fee7d7",
   "metadata": {},
   "outputs": [
    {
     "data": {
      "text/plain": [
       "<function matplotlib.pyplot.show(close=None, block=None)>"
      ]
     },
     "execution_count": 7,
     "metadata": {},
     "output_type": "execute_result"
    },
    {
     "data": {
      "image/png": "[encoded data removed]",
      "text/plain": [
       "<Figure size 640x480 with 1 Axes>"
      ]
     },
     "metadata": {},
     "output_type": "display_data"
    }
   ],
   "source": [
    "df['Speed'].hist()\n",
    "plt.title(\"Pokemon speed\")\n",
    "plt.xlabel(\"Speed\")\n",
    "plt.ylabel(\"Amount of pokemon\")\n",
    "plt.show"
   ]
  },
  {
   "cell_type": "code",
   "execution_count": 16,
   "id": "61e4083a-5b1e-4bac-8d3b-06f2e88cc545",
   "metadata": {},
   "outputs": [
    {
     "name": "stdout",
     "output_type": "stream",
     "text": [
      "32    90\n",
      "Name: Speed, dtype: int64\n"
     ]
    }
   ],
   "source": [
    "Pika = df[df[\"Name\"] == \"Pikachu\"][\"Speed\"]\n",
    "print(Pika)"
   ]
  },
  {
   "cell_type": "code",
   "execution_count": 18,
   "id": "e798df30-2cda-4b24-b539-7206bcd5390c",
   "metadata": {},
   "outputs": [
    {
     "name": "stdout",
     "output_type": "stream",
     "text": [
      "Pikachu has a speed of 90, which is in the 1st STD of all other pokemon\n"
     ]
    }
   ],
   "source": [
    "print(\"Pikachu has a speed of 90, which is in the 1st STD of all Electric type pokemon\")"
   ]
  },
  {
   "cell_type": "code",
   "execution_count": null,
   "id": "4ae77b3f-54f6-4a31-a903-a2db1f1660b7",
   "metadata": {},
   "outputs": [],
   "source": []
  }
 ],
 "metadata": {
  "kernelspec": {
   "display_name": "anaconda-2024.02-py310",
   "language": "python",
   "name": "conda-env-anaconda-2024.02-py310-py"
  },
  "language_info": {
   "codemirror_mode": {
    "name": "ipython",
    "version": 3
   },
   "file_extension": ".py",
   "mimetype": "text/x-python",
   "name": "python",
   "nbconvert_exporter": "python",
   "pygments_lexer": "ipython3",
   "version": "3.10.14"
  }
 },
 "nbformat": 4,
 "nbformat_minor": 5
}
